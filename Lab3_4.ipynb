{
  "metadata": {
    "kernelspec": {
      "name": "python",
      "display_name": "Python (Pyodide)",
      "language": "python"
    },
    "language_info": {
      "codemirror_mode": {
        "name": "python",
        "version": 3
      },
      "file_extension": ".py",
      "mimetype": "text/x-python",
      "name": "python",
      "nbconvert_exporter": "python",
      "pygments_lexer": "ipython3",
      "version": "3.8"
    }
  },
  "nbformat_minor": 4,
  "nbformat": 4,
  "cells": [
    {
      "cell_type": "code",
      "source": "import random\n\ndef simulate_random_strategy(max_boxes):\n    \"\"\"Симуляція з випадковим вибором коробок\"\"\"\n    boxes = list(range(1, 101))\n    random.shuffle(boxes)\n\n    for prisoner in range(1, 101):\n        chosen_boxes = random.sample(range(1, 101), max_boxes)\n        if prisoner not in [boxes[i - 1] for i in chosen_boxes]:\n            return False  # Якщо хоча б один не знаходить свій номер\n    return True  # Якщо всі знаходять свої номери\n\ndef simulate_prisoner_algorithm(max_boxes):\n    \"\"\"Симуляція за алгоритмом ув'язнених\"\"\"\n    boxes = list(range(1, 101))\n    random.shuffle(boxes)\n\n    for prisoner in range(1, 101):\n        found = False\n        next_box = prisoner\n        for _ in range(max_boxes):\n            if boxes[next_box - 1] == prisoner:\n                found = True\n                break\n            next_box = boxes[next_box - 1]\n        if not found:\n            return False  # Якщо хоча б один не знаходить свій номер\n    return True  # Якщо всі знаходять свої номери\n\ndef run_simulations(strategy, max_boxes, simulations=10000):\n    \"\"\"Запуск обчислювального експерименту\"\"\"\n    success_count = sum(strategy(max_boxes) for _ in range(simulations))\n    return success_count / simulations\n\n# Виведення результатів\nfor boxes in [50, 60, 75]:\n    random_success = run_simulations(simulate_random_strategy, boxes)\n    algorithm_success = run_simulations(simulate_prisoner_algorithm, boxes)\n    print(f\"Макс. дозволених коробок: {boxes}\")\n    print(f\"Ймовірність успіху (випадковий вибір): {random_success:.25%}\")\n    print(f\"Ймовірність успіху (алгоритм ув'язнених): {algorithm_success:.10%}\")\n    print(\"-\" * 50)",
      "metadata": {
        "trusted": true
      },
      "outputs": [
        {
          "name": "stdout",
          "text": "Макс. дозволених коробок: 50\nЙмовірність успіху (випадковий вибір): 0.0000000000000000000000000%\nЙмовірність успіху (алгоритм ув'язнених): 31.3500000000%\n--------------------------------------------------\nМакс. дозволених коробок: 60\nЙмовірність успіху (випадковий вибір): 0.0000000000000000000000000%\nЙмовірність успіху (алгоритм ув'язнених): 48.1300000000%\n--------------------------------------------------\nМакс. дозволених коробок: 75\nЙмовірність успіху (випадковий вибір): 0.0000000000000000000000000%\nЙмовірність успіху (алгоритм ув'язнених): 71.8500000000%\n--------------------------------------------------\n",
          "output_type": "stream"
        }
      ],
      "execution_count": 3
    },
    {
      "cell_type": "code",
      "source": "",
      "metadata": {
        "trusted": true
      },
      "outputs": [],
      "execution_count": null
    }
  ]
}